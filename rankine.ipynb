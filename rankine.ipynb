{
 "metadata": {
  "name": "rankine"
 },
 "nbformat": 3,
 "nbformat_minor": 0,
 "worksheets": [
  {
   "cells": [
    {
     "cell_type": "code",
     "collapsed": false,
     "input": [
      "%matplotlib inline\n",
      "\n",
      "from __future__ import division\n",
      "import numpy as np\n",
      "import matplotlib as mpl\n",
      "import matplotlib.pyplot as plt\n",
      "from scipy.spatial import Delaunay\n",
      "\n",
      "def triangulate_points(points):\n",
      "    \"\"\"Triangulate a set of data.  Possible formats include 'list', 'pairs' and ''.\"\"\"\n",
      "    points = np.array(points)\n",
      "    triangles = Delaunay(points)\n",
      "    return triangles\n",
      "\n",
      "def plot_triangulated_points(points,triangles):\n",
      "    points = np.array(points)\n",
      "    plt.triplot(points[:,0], points[:,1], triangles.vertices.copy(), 'k-')\n",
      "    plt.plot(points[:,0], points[:,1], 'b.')\n",
      "    plt.show()\n"
     ],
     "language": "python",
     "metadata": {},
     "outputs": [
      {
       "output_type": "stream",
       "stream": "stderr",
       "text": [
        "ERROR: Line magic function `%matplotlib` not found."
       ]
      }
     ],
     "prompt_number": 94
    },
    {
     "cell_type": "code",
     "collapsed": false,
     "input": [
      "def dot(pt1, pt2):\n",
      "    return (pt1[0]*pt2[0] + pt1[1]*pt2[1])\n",
      "\n",
      "def calc_bary_coords(pt, pta, ptb, ptc):\n",
      "    \"\"\"Calculates the barycentric coordinates of the pair pt in the triangle of pairs pta, ptb, and ptc.\"\"\"\n",
      "    # Move the origin to pta.\n",
      "    vc = [None, None]\n",
      "    vc[0] = ptc[0] - pta[0]; vc[1] = ptc[1] - pta[1] #vc is from pta to ptc\n",
      "    vb = [None, None]\n",
      "    vb[0] = ptb[0] - pta[0]; vb[1] = ptb[1] - pta[1] #vb is from pta to ptb\n",
      "    vp = [None, None]\n",
      "    vp[0] = pt[0] - pta[0];  vp[1] = pt[1] - pta[1]  #vt is from pta to pt\n",
      "    \n",
      "    # Compute the dot products.\n",
      "    dot_cc = dot(vc, vc)\n",
      "    dot_cb = dot(vc, vb)\n",
      "    dot_cp = dot(vc, vp)\n",
      "    dot_bb = dot(vb, vb)\n",
      "    dot_bp = dot(vb, vp)\n",
      "    \n",
      "    # Compute barycentric coordinates\n",
      "    invDenom = 1 / (dot_cc * dot_bb - dot_cb * dot_cb)\n",
      "    u = (dot_bb * dot_cp - dot_cb * dot_bp) * invDenom\n",
      "    v = (dot_cc * dot_bp - dot_cb * dot_cp) * invDenom\n",
      "    \n",
      "    # Check if point is in triangle.\n",
      "    in_tri = ((u >= 0) and (v >= 0) and (u + v < 1))\n",
      "    return ([u, v], in_tri)\n",
      " "
     ],
     "language": "python",
     "metadata": {},
     "outputs": [],
     "prompt_number": 137
    },
    {
     "cell_type": "code",
     "collapsed": false,
     "input": [
      "# Retrieve temperature data from online source.\n",
      "import requests, string\n",
      "# http://www.nws.noaa.gov/mdl/gfslamp/lavlamp.shtml\n",
      "# http://www.nws.noaa.gov/mdl/gfslamp/docs/stations_info.shtml (lat/lon)\n",
      "\n",
      "# Get latitude and longitude of stations.\n",
      "#   Load raw data as HTML string.\n",
      "r = requests.get('http://www.nws.noaa.gov/mdl/gfslamp/docs/stations_info.shtml')\n",
      "#   Find Illinois data segment (in a PRE tag).  We know (from examination) that inside of\n",
      "#   the PRE block containing ' IL ' (with whitespace and case matching) we can find the IL\n",
      "#   station data.  This solution isn't robust, but it's good enough for practical cases.\n",
      "il_start  = r.text.find(' IL ')\n",
      "tag_start = r.text.rfind('PRE', il_start-200, il_start) # The string.rfind() function looks backwards from an index.\n",
      "tag_end   = r.text.find('PRE', il_start)\n",
      "data = r.text[tag_start+4:tag_end-2]\n",
      "#print(data)\n",
      "\n",
      "#   Extract latitude and longitude of stations.  We know the columns are fixed (which is\n",
      "#   both inconvenient and convenient).  In this case, we will simply set the limits of\n",
      "#   the relevant columns by counting the number of columns over we need to go.\n",
      "r_stn  = (5, 9) #remember that the last index is an exclusive bound\n",
      "r_name = (10, 31)\n",
      "r_lat  = (36, 41) #we don't need the N/W designation; we know where we are\n",
      "r_lon  = (46, 51)\n",
      "locs = {}\n",
      "for line in data.split('\\n'):\n",
      "    stn  = line[r_stn[0]:r_stn[1]]\n",
      "    name = line[r_name[0]:r_name[1]]\n",
      "    try:\n",
      "        lat  =  float(line[r_lat[0]:r_lat[1]])\n",
      "        lon  =  float(line[r_lon[0]:r_lon[1]])\n",
      "    except ValueError:\n",
      "        continue\n",
      "    locs[stn] = (lat, lon)\n",
      "\n",
      "sites = []\n",
      "for site in locs:\n",
      "    sites.append(locs[site])\n",
      "print sites"
     ],
     "language": "python",
     "metadata": {},
     "outputs": [
      {
       "output_type": "stream",
       "stream": "stdout",
       "text": [
        "[(41.77, 88.47), (42.1, 87.9), (38.65, 88.97), (40.92, 88.63), (41.6, 88.08), (39.77, 90.24), (38.88, 90.05), (40.93, 90.43), (40.29, 88.14), (41.73, 89.68), (39.53, 89.33), (42.2, 89.1), (41.89, 89.08), (40.48, 88.93), (38.76, 87.6), (41.35, 89.15), (40.16, 89.33), (41.93, 88.71), (41.98, 87.9), (38.57, 90.15), (41.92, 88.25), (39.83, 88.86), (41.52, 88.18), (37.75, 89.0), (37.81, 88.55), (41.87, 87.62), (39.7, 87.67), (41.02, 89.38), (42.25, 89.58), (38.38, 88.41), (37.78, 89.25), (40.67, 89.68), (40.03, 88.28), (38.72, 88.18), (41.78, 87.75), (41.45, 90.52), (41.07, 87.83), (40.52, 90.65), (42.42, 87.87), (39.64, 90.78), (39.95, 91.2), (39.07, 88.53), (39.83, 89.67), (41.54, 87.53), (38.66, 88.45), (38.51, 89.09), (40.2, 87.6), (38.15, 89.7), (39.48, 88.28), (38.32, 88.87), (38.55, 89.85), (41.42, 88.42)]\n"
       ]
      }
     ],
     "prompt_number": 335
    },
    {
     "cell_type": "code",
     "collapsed": false,
     "input": [
      "# Generate random data points.\n",
      "from random import random\n",
      "hi = 10\n",
      "sites = [] # sites are the x-y coordinates of the observed temperatures\n",
      "for i in range(0,hi):\n",
      "    site = [random()]\n",
      "    site.append(random())\n",
      "    sites.append(site)\n",
      "\n",
      "triangles = triangulate_points(sites)\n",
      "plot_triangulated_points(sites,triangles)"
     ],
     "language": "python",
     "metadata": {},
     "outputs": [],
     "prompt_number": 229
    },
    {
     "cell_type": "code",
     "collapsed": false,
     "input": [
      "# Make a list of all possible triangles of points (easy but not optimal as it repeats triangles).\n",
      "from itertools import permutations\n",
      "triangles = permutations(range(len(sites)), 3)\n",
      "\n",
      "# Interpolate to find the value at set points.\n",
      "pts = [[40.0,90.0]] # pts are the x-y coordinates of the desired site(s)\n",
      "pts_tri = []\n",
      "pts_bc  = []\n",
      "\n",
      "for pt in pts:\n",
      "    # For a given interpolant point, find the triangle in which it lies.\n",
      "    for triangle in triangles:\n",
      "        a = sites[triangle[0]]\n",
      "        b = sites[triangle[1]]\n",
      "        c = sites[triangle[2]]\n",
      "        \n",
      "        # Calculate the barycentric (weighted) coordinates of an interior point.\n",
      "        (pt_bc,in_tri) = calc_bary_coords(pt,a,b,c)\n",
      "        \n",
      "        if in_tri:\n",
      "            pts_tri.append(triangle)\n",
      "            pts_bc.append(pt_bc)\n",
      "            break\n",
      "\n",
      "for triangle in pts_tri:\n",
      "    data = []\n",
      "    for i in [0,1,2,0]:\n",
      "        data.append(sites[triangle[i]])\n",
      "    plt.plot(np.array(data).T[0], np.array(data).T[1], 'k-')\n",
      "plt.plot(np.array(sites)[:,0],np.array(sites)[:,1],'g.')\n",
      "#plt.axis((0,1,0,1))\n",
      "plt.show()"
     ],
     "language": "python",
     "metadata": {},
     "outputs": [],
     "prompt_number": 336
    },
    {
     "cell_type": "code",
     "collapsed": false,
     "input": [],
     "language": "python",
     "metadata": {},
     "outputs": [
      {
       "ename": "AttributeError",
       "evalue": "'itertools.permutations' object has no attribute 'vertices'",
       "output_type": "pyerr",
       "traceback": [
        "\u001b[0;31m---------------------------------------------------------------------------\u001b[0m\n\u001b[0;31mAttributeError\u001b[0m                            Traceback (most recent call last)",
        "\u001b[0;32m<ipython-input-205-f12c14553aa0>\u001b[0m in \u001b[0;36m<module>\u001b[0;34m()\u001b[0m\n\u001b[0;32m----> 1\u001b[0;31m \u001b[0mplot_triangulated_points\u001b[0m\u001b[0;34m(\u001b[0m\u001b[0msites\u001b[0m\u001b[0;34m,\u001b[0m\u001b[0mtriangles\u001b[0m\u001b[0;34m)\u001b[0m\u001b[0;34m\u001b[0m\u001b[0m\n\u001b[0m",
        "\u001b[0;32m<ipython-input-94-2f82e90ac59e>\u001b[0m in \u001b[0;36mplot_triangulated_points\u001b[0;34m(points, triangles)\u001b[0m\n\u001b[1;32m     15\u001b[0m \u001b[0;32mdef\u001b[0m \u001b[0mplot_triangulated_points\u001b[0m\u001b[0;34m(\u001b[0m\u001b[0mpoints\u001b[0m\u001b[0;34m,\u001b[0m\u001b[0mtriangles\u001b[0m\u001b[0;34m)\u001b[0m\u001b[0;34m:\u001b[0m\u001b[0;34m\u001b[0m\u001b[0m\n\u001b[1;32m     16\u001b[0m     \u001b[0mpoints\u001b[0m \u001b[0;34m=\u001b[0m \u001b[0mnp\u001b[0m\u001b[0;34m.\u001b[0m\u001b[0marray\u001b[0m\u001b[0;34m(\u001b[0m\u001b[0mpoints\u001b[0m\u001b[0;34m)\u001b[0m\u001b[0;34m\u001b[0m\u001b[0m\n\u001b[0;32m---> 17\u001b[0;31m     \u001b[0mplt\u001b[0m\u001b[0;34m.\u001b[0m\u001b[0mtriplot\u001b[0m\u001b[0;34m(\u001b[0m\u001b[0mpoints\u001b[0m\u001b[0;34m[\u001b[0m\u001b[0;34m:\u001b[0m\u001b[0;34m,\u001b[0m\u001b[0;36m0\u001b[0m\u001b[0;34m]\u001b[0m\u001b[0;34m,\u001b[0m \u001b[0mpoints\u001b[0m\u001b[0;34m[\u001b[0m\u001b[0;34m:\u001b[0m\u001b[0;34m,\u001b[0m\u001b[0;36m1\u001b[0m\u001b[0;34m]\u001b[0m\u001b[0;34m,\u001b[0m \u001b[0mtriangles\u001b[0m\u001b[0;34m.\u001b[0m\u001b[0mvertices\u001b[0m\u001b[0;34m.\u001b[0m\u001b[0mcopy\u001b[0m\u001b[0;34m(\u001b[0m\u001b[0;34m)\u001b[0m\u001b[0;34m,\u001b[0m \u001b[0;34m'k-'\u001b[0m\u001b[0;34m)\u001b[0m\u001b[0;34m\u001b[0m\u001b[0m\n\u001b[0m\u001b[1;32m     18\u001b[0m     \u001b[0mplt\u001b[0m\u001b[0;34m.\u001b[0m\u001b[0mplot\u001b[0m\u001b[0;34m(\u001b[0m\u001b[0mpoints\u001b[0m\u001b[0;34m[\u001b[0m\u001b[0;34m:\u001b[0m\u001b[0;34m,\u001b[0m\u001b[0;36m0\u001b[0m\u001b[0;34m]\u001b[0m\u001b[0;34m,\u001b[0m \u001b[0mpoints\u001b[0m\u001b[0;34m[\u001b[0m\u001b[0;34m:\u001b[0m\u001b[0;34m,\u001b[0m\u001b[0;36m1\u001b[0m\u001b[0;34m]\u001b[0m\u001b[0;34m,\u001b[0m \u001b[0;34m'b.'\u001b[0m\u001b[0;34m)\u001b[0m\u001b[0;34m\u001b[0m\u001b[0m\n\u001b[1;32m     19\u001b[0m     \u001b[0mplt\u001b[0m\u001b[0;34m.\u001b[0m\u001b[0mshow\u001b[0m\u001b[0;34m(\u001b[0m\u001b[0;34m)\u001b[0m\u001b[0;34m\u001b[0m\u001b[0m\n",
        "\u001b[0;31mAttributeError\u001b[0m: 'itertools.permutations' object has no attribute 'vertices'"
       ]
      }
     ],
     "prompt_number": 205
    },
    {
     "cell_type": "code",
     "collapsed": false,
     "input": [
      "\n",
      "\n",
      "\n",
      "for i, pt in enumerate(pts):\n",
      "    # For a given interpolant point, find the triangle in which it lies.\n",
      "    for j, triangle in enumerate(triangles.vertices):\n",
      "        a = points[triangle[0]]\n",
      "        b = points[triangle[1]]\n",
      "        c = points[triangle[2]]\n",
      "        \n",
      "        # Calculate the barycentric coordinates of an interior point.\n",
      "        (pt_bc,in_tri) = calc_bary_coords(pt,a,b,c)\n",
      "        \n",
      "        if in_tri:\n",
      "            pts_tri[i] = j\n",
      "            break\n",
      "\n",
      "#for i in range(0,len(pts)):\n",
      "#    print(pts[i], pts_tri[i], triangles.vertices[i],points[triangles.vertices[pts_tri[i]][0]],points[triangles.vertices[pts_tri[i]][1]],points[triangles.vertices[pts_tri[i]][2]])\n",
      "\n",
      "sites = np.array(sites)\n",
      "pts = np.array(pts)\n",
      "plt.triplot(sites[:,0], sites[:,1], triangles.vertices.copy(), 'k-')\n",
      "plt.plot(sites[:,0], sites[:,1], 'b.')\n",
      "plt.plot(pts[:,0], pts[:,1], 'g.')\n",
      "plt.show()"
     ],
     "language": "python",
     "metadata": {},
     "outputs": [],
     "prompt_number": 167
    },
    {
     "cell_type": "code",
     "collapsed": false,
     "input": [
      "print(triangles.vertices)\n",
      "print(sites)\n",
      "\n",
      "for i in range(0,len(pts)):\n",
      "    print(pts[i], pts_tri[i], triangles.vertices[pts_tri[i]], sites[triangles.vertices[pts_tri[i]][0]], sites[triangles.vertices[pts_tri[i]][1]], sites[triangles.vertices[pts_tri[i]][2]])\n"
     ],
     "language": "python",
     "metadata": {},
     "outputs": [
      {
       "output_type": "stream",
       "stream": "stdout",
       "text": [
        "[[1 0 3]\n",
        " [2 4 0]\n",
        " [2 1 0]\n",
        " [2 4 3]\n",
        " [2 1 3]]\n",
        "[[ 0.98656691  0.33351093]\n",
        " [ 0.44928433  0.558523  ]\n",
        " [ 0.54835299  0.11849635]\n",
        " [ 0.20050494  0.71994957]\n",
        " [ 0.53645758  0.06919823]]\n",
        "(array([ 0.5,  0.5]), 1, array([2, 4, 0], dtype=int32), array([ 0.54835299,  0.11849635]), array([ 0.53645758,  0.06919823]), array([ 0.98656691,  0.33351093]))\n"
       ]
      }
     ],
     "prompt_number": 166
    },
    {
     "cell_type": "code",
     "collapsed": false,
     "input": [
      "# Interpolate the proper value from the triangle vertices.\n"
     ],
     "language": "python",
     "metadata": {},
     "outputs": [],
     "prompt_number": 171
    }
   ],
   "metadata": {}
  }
 ]
}